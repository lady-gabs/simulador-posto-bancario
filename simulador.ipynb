{
 "cells": [
  {
   "cell_type": "code",
   "execution_count": 27,
   "id": "b873da3e",
   "metadata": {
    "id": "b873da3e"
   },
   "outputs": [
    {
     "name": "stdout",
     "output_type": "stream",
     "text": [
      "Collecting prettytable\n",
      "  Downloading prettytable-3.12.0-py3-none-any.whl (31 kB)\n",
      "Requirement already satisfied: wcwidth in c:\\programdata\\anaconda3\\lib\\site-packages (from prettytable) (0.2.5)\n",
      "Installing collected packages: prettytable\n",
      "Successfully installed prettytable-3.12.0\n",
      "Note: you may need to restart the kernel to use updated packages.\n"
     ]
    }
   ],
   "source": [
    "%pip install tabulate\n",
    "import math\n",
    "import random"
   ]
  },
  {
   "cell_type": "code",
   "execution_count": 28,
   "id": "93154131",
   "metadata": {
    "id": "93154131"
   },
   "outputs": [],
   "source": [
    "# Variável que habilita o print das iterações (Tabelas, médias, etc)\n",
    "printON = False"
   ]
  },
  {
   "cell_type": "code",
   "execution_count": 29,
   "id": "799df2e9",
   "metadata": {
    "id": "799df2e9"
   },
   "outputs": [],
   "source": [
    "# Função para gerar números pseudo-aleatórios sem filtro\n",
    "def gerar_pseudo_aleatorio(semente, n):\n",
    "    resultados = []\n",
    "    modulo = (2 ** 31) - 1\n",
    "    multiplicador = 16807\n",
    "    c = 1\n",
    "    x = semente\n",
    "\n",
    "    for _ in range(n):\n",
    "        x = ((multiplicador * x) + c) % modulo\n",
    "        resultados.append(x / modulo)\n",
    "\n",
    "    return resultados"
   ]
  },
  {
   "cell_type": "code",
   "execution_count": 30,
   "id": "56b7cd2a",
   "metadata": {
    "id": "56b7cd2a"
   },
   "outputs": [],
   "source": [
    "# Função para determinar o tipo do cliente com base no número pseudo-aleatório\n",
    "def determinar_tipo(cliente_aleatorio):\n",
    "    if 0 <= cliente_aleatorio < 0.6:\n",
    "        return 1\n",
    "    elif 0.6 <= cliente_aleatorio < 0.9:\n",
    "        return 2\n",
    "    else:\n",
    "        return 3"
   ]
  },
  {
   "cell_type": "code",
   "execution_count": 31,
   "id": "5af872ca",
   "metadata": {
    "id": "5af872ca"
   },
   "outputs": [],
   "source": [
    "# Funções de cálculo\n",
    "\n",
    "def calcular_tempo_medio_espera_fila(clientes):\n",
    "    soma_fila = sum(cliente['tempo_fila'] for cliente in clientes)\n",
    "    media_fila = soma_fila / len(clientes)\n",
    "\n",
    "    if printON:\n",
    "        print(f\"\\nTempo Médio de Espera na Fila: {media_fila:.2f}\")\n",
    "    return media_fila\n",
    "\n",
    "def calcular_media_ts(clientes):\n",
    "    soma_ts = sum(cliente['ts'] for cliente in clientes)\n",
    "    media_ts = soma_ts / len(clientes)\n",
    "\n",
    "    if printON:\n",
    "        print(f\"\\nTempo Médio de Serviço (TS): {media_ts:.2f}\")\n",
    "    return media_ts\n",
    "\n",
    "def calcular_media_tempo_sistema(atendidos):\n",
    "    soma_sistema = sum(cliente['tempo_sistema'] for cliente in atendidos)\n",
    "    media_sistema = soma_sistema / len(atendidos)\n",
    "\n",
    "    if printON:\n",
    "        print(f\"\\nTempo Médio no Sistema: {media_sistema:.2f}\")\n",
    "    return media_sistema\n",
    "\n",
    "def calcular_media_ociosidade(funcionarios):\n",
    "    total_ociosidade = sum(funcionario['ocio'] for funcionario in funcionarios)\n",
    "    total_atendimentos = sum(funcionario['num_atendimentos'] for funcionario in funcionarios)\n",
    "\n",
    "    media_ociosidade_total = total_ociosidade / total_atendimentos if total_atendimentos > 0 else 0\n",
    "\n",
    "    if printON:\n",
    "        print(f\"\\nTempo Médio Ocioso Total: {media_ociosidade_total:.2f}\")\n",
    "    return media_ociosidade_total\n",
    "\n",
    "def calcular_desvio_padrao(numeros, media):\n",
    "    soma_quadrados = sum((x - media) ** 2 for x in numeros)\n",
    "    return math.sqrt(soma_quadrados / (len(numeros) - 1))\n",
    "\n",
    "def calcular_intervalo_confianca(medias, z=1.96):\n",
    "    n = len(medias)\n",
    "    media = sum(medias) / n\n",
    "    desvio_padrao = calcular_desvio_padrao(medias, media)\n",
    "    margem_erro = z * (desvio_padrao / math.sqrt(n))\n",
    "\n",
    "    return {\n",
    "        'inferior': media - margem_erro,\n",
    "        'superior': media + margem_erro\n",
    "    }\n",
    "\n",
    "def calcular_tec(aleatorio):\n",
    "    return -15 * math.log(aleatorio)\n",
    "\n",
    "def calcular_ts(tipo, aleatorio):\n",
    "    if tipo == 1:\n",
    "        return -15 * math.log(aleatorio) + 15\n",
    "    elif tipo == 2:\n",
    "        return -40 * math.log(aleatorio) + 30\n",
    "    else:\n",
    "        return -140 * math.log(aleatorio) + 60"
   ]
  },
  {
   "cell_type": "code",
   "execution_count": 32,
   "id": "0d4cf1b0",
   "metadata": {
    "id": "0d4cf1b0"
   },
   "outputs": [],
   "source": [
    "# Função de atendimento do cliente\n",
    "def atender_cliente(funcionario, cliente):\n",
    "    cliente['inicio_servico'] = max(cliente['chegada'], funcionario['fim_atendimento'])\n",
    "    cliente['fim_servico'] = cliente['inicio_servico'] + cliente['ts']\n",
    "    cliente['tempo_fila'] = cliente['inicio_servico'] - cliente['chegada']\n",
    "    cliente['tempo_sistema'] = cliente['ts'] + cliente['tempo_fila']\n",
    "    cliente['funcionario_id'] = funcionario['id']\n",
    "    cliente['tempo_ocioso_funcionario'] = cliente['inicio_servico'] - funcionario['fim_atendimento']\n",
    "\n",
    "    funcionario['ocio'] += cliente['tempo_ocioso_funcionario']\n",
    "    funcionario['num_atendimentos'] += 1\n",
    "    funcionario['disponivel'] = False\n",
    "    funcionario['fim_atendimento'] = cliente['fim_servico']\n",
    "    funcionario['atendendo'] = cliente"
   ]
  },
  {
   "cell_type": "code",
   "execution_count": 33,
   "id": "047d7eb9",
   "metadata": {
    "id": "047d7eb9"
   },
   "outputs": [],
   "source": [
    "# Função para simular o banco\n",
    "def simular_banco(semente, num_clientes, num_funcionarios, tempo_maximo):\n",
    "    funcionarios = [{'id': i + 1, 'ocio': 0, 'disponivel': True, 'fim_atendimento': 0, 'num_atendimentos': 0} for i in range(num_funcionarios)]\n",
    "\n",
    "    tamanho_total = num_clientes * 3\n",
    "    numeros_aleatorios = gerar_pseudo_aleatorio(semente, tamanho_total)\n",
    "\n",
    "    numeros_aleatorios_tipo = numeros_aleatorios[:num_clientes]\n",
    "    numeros_aleatorios_tec = numeros_aleatorios[num_clientes:num_clientes * 2]\n",
    "    numeros_aleatorios_ts = numeros_aleatorios[num_clientes * 2:]\n",
    "\n",
    "    clientes = [\n",
    "        {\n",
    "            'id': i + 1,\n",
    "            'tipo': determinar_tipo(numeros_aleatorios_tipo[i]),\n",
    "            'chegada': 0,\n",
    "            'inicio_servico': 0,\n",
    "            'fim_servico': 0,\n",
    "            'tempo_fila': 0,\n",
    "            'tempo_sistema': 0,\n",
    "            'tec': calcular_tec(numeros_aleatorios_tec[i]),\n",
    "            'ts': calcular_ts(determinar_tipo(numeros_aleatorios_tipo[i]), numeros_aleatorios_ts[i])\n",
    "        }\n",
    "        for i in range(num_clientes)\n",
    "    ]\n",
    "\n",
    "    fila = []\n",
    "    tempo_simulacao = 0\n",
    "    atendidos = []\n",
    "    i = 0\n",
    "\n",
    "    while i < num_clientes or fila or any(not func['disponivel'] for func in funcionarios):\n",
    "        cliente = clientes[i] if i < num_clientes else None\n",
    "\n",
    "        fim_atendimento_disponiveis = [func['fim_atendimento'] for func in funcionarios if not func['disponivel']]\n",
    "        tempo_simulacao = min(\n",
    "            cliente['chegada'] if cliente else float('inf'),\n",
    "            min(fim_atendimento_disponiveis) if fim_atendimento_disponiveis else float('inf')\n",
    "        )\n",
    "\n",
    "        if cliente and cliente['chegada'] <= tempo_maximo:\n",
    "            if i == 0:\n",
    "                cliente['chegada'] = cliente['tec']\n",
    "            else:\n",
    "                cliente['chegada'] = clientes[i - 1]['chegada'] + cliente['tec']\n",
    "\n",
    "            funcionario_disponivel = next((func for func in funcionarios if func['disponivel'] and func['fim_atendimento'] <= cliente['chegada']), None)\n",
    "\n",
    "            if funcionario_disponivel:\n",
    "                atender_cliente(funcionario_disponivel, cliente)\n",
    "                atendidos.append(cliente)\n",
    "                i += 1\n",
    "            else:\n",
    "                if cliente['chegada'] <= tempo_maximo:\n",
    "                    fila.append(cliente)\n",
    "                i += 1\n",
    "\n",
    "        for funcionario in funcionarios:\n",
    "            if not funcionario['disponivel'] and funcionario['fim_atendimento'] <= tempo_simulacao:\n",
    "                funcionario['disponivel'] = True\n",
    "                if fila:\n",
    "                    proximo_cliente = fila.pop(0)\n",
    "                    atender_cliente(funcionario, proximo_cliente)\n",
    "                    atendidos.append(proximo_cliente)\n",
    "\n",
    "    media_fila = calcular_tempo_medio_espera_fila(clientes)\n",
    "    media_ts = calcular_media_ts(atendidos)\n",
    "    media_sistema = calcular_media_tempo_sistema(atendidos)\n",
    "    media_ociosidade = calcular_media_ociosidade(funcionarios)\n",
    "\n",
    "    return {\n",
    "        'media_fila': media_fila,\n",
    "        'media_ts': media_ts,\n",
    "        'media_sistema': media_sistema,\n",
    "        'media_ociosidade': media_ociosidade\n",
    "    }"
   ]
  },
  {
   "cell_type": "code",
   "execution_count": 34,
   "id": "058de71f",
   "metadata": {
    "id": "058de71f",
    "outputId": "f6b8c0b1-d0f8-4914-d89c-9ba7c7707d01"
   },
   "outputs": [
    {
     "name": "stdout",
     "output_type": "stream",
     "text": [
      "+---------------------+------------------------+\n",
      "|       Métrica       | Intervalo de Confiança |\n",
      "+---------------------+------------------------+\n",
      "|    Tempo na Fila    |     [74.37, 82.94]     |\n",
      "|   Tempo de Serviço  |     [58.31, 59.13]     |\n",
      "|   Tempo no Sistema  |    [134.62, 143.77]    |\n",
      "| Tempo em Ociosidade |      [8.09, 8.77]      |\n",
      "+---------------------+------------------------+\n"
     ]
    }
   ],
   "source": [
    "from tabulate import tabulate\n",
    "\n",
    "# Simulação principal\n",
    "medias = []\n",
    "\n",
    "# Para várias sementes\n",
    "for semente in range(1, 1000):\n",
    "    resultado = simular_banco(semente, 120, 4, 1800)\n",
    "    medias.append(resultado)\n",
    "\n",
    "arr_filas = [resultado['media_fila'] for resultado in medias]\n",
    "arr_ts = [resultado['media_ts'] for resultado in medias]\n",
    "arr_sistema = [resultado['media_sistema'] for resultado in medias]\n",
    "arr_ociosidade = [resultado['media_ociosidade'] for resultado in medias]\n",
    "\n",
    "intervalo_fila = calcular_intervalo_confianca(arr_filas)\n",
    "intervalo_ts = calcular_intervalo_confianca(arr_ts)\n",
    "intervalo_sistema = calcular_intervalo_confianca(arr_sistema)\n",
    "intervalo_ociosidade = calcular_intervalo_confianca(arr_ociosidade)\n",
    "\n",
    "# Preparando os dados para a tabela\n",
    "dados = [\n",
    "    [\"Tempo na Fila\", f\"[{intervalo_fila['inferior']:.2f}, {intervalo_fila['superior']:.2f}]\"],\n",
    "    [\"Tempo de Serviço\", f\"[{intervalo_ts['inferior']:.2f}, {intervalo_ts['superior']:.2f}]\"],\n",
    "    [\"Tempo no Sistema\", f\"[{intervalo_sistema['inferior']:.2f}, {intervalo_sistema['superior']:.2f}]\"],\n",
    "    [\"Tempo em Ociosidade\", f\"[{intervalo_ociosidade['inferior']:.2f}, {intervalo_ociosidade['superior']:.2f}]\"]\n",
    "]\n",
    "\n",
    "# Exibindo os dados em formato de tabela\n",
    "print(tabulate(dados, headers=[\"Métrica\", \"Intervalo de Confiança\"], tablefmt=\"grid\", numalign=\"center\"))"
   ]
  },
  {
   "cell_type": "code",
   "execution_count": null,
   "id": "b1b16712",
   "metadata": {
    "id": "b1b16712"
   },
   "outputs": [],
   "source": []
  },
  {
   "cell_type": "code",
   "execution_count": null,
   "id": "ee38d691",
   "metadata": {},
   "outputs": [],
   "source": []
  }
 ],
 "metadata": {
  "colab": {
   "provenance": []
  },
  "kernelspec": {
   "display_name": "Python 3 (ipykernel)",
   "language": "python",
   "name": "python3"
  },
  "language_info": {
   "codemirror_mode": {
    "name": "ipython",
    "version": 3
   },
   "file_extension": ".py",
   "mimetype": "text/x-python",
   "name": "python",
   "nbconvert_exporter": "python",
   "pygments_lexer": "ipython3",
   "version": "3.9.7"
  }
 },
 "nbformat": 4,
 "nbformat_minor": 5
}
